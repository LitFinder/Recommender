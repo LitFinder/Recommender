{
 "cells": [
  {
   "cell_type": "code",
   "execution_count": 1,
   "metadata": {},
   "outputs": [],
   "source": [
    "import pandas as pd"
   ]
  },
  {
   "cell_type": "code",
   "execution_count": 2,
   "metadata": {},
   "outputs": [],
   "source": [
    "df_rating = pd.read_csv('Books_rating.csv')"
   ]
  },
  {
   "cell_type": "code",
   "execution_count": 3,
   "metadata": {},
   "outputs": [],
   "source": [
    "df_data = pd.read_csv('books_data.csv')"
   ]
  },
  {
   "cell_type": "code",
   "execution_count": 4,
   "metadata": {},
   "outputs": [
    {
     "data": {
      "text/plain": [
       "Id                     221998\n",
       "Title                  212403\n",
       "Price                    6004\n",
       "User_id               1008972\n",
       "profileName            854145\n",
       "review/helpfulness      12084\n",
       "review/score                5\n",
       "review/time              6272\n",
       "review/summary        1592314\n",
       "review/text           2062648\n",
       "dtype: int64"
      ]
     },
     "execution_count": 4,
     "metadata": {},
     "output_type": "execute_result"
    }
   ],
   "source": [
    "df_rating.nunique()"
   ]
  },
  {
   "cell_type": "code",
   "execution_count": 5,
   "metadata": {},
   "outputs": [
    {
     "data": {
      "text/plain": [
       "Title            212403\n",
       "description      133226\n",
       "authors          127278\n",
       "image            149387\n",
       "previewLink      188099\n",
       "publisher         16016\n",
       "publishedDate     11582\n",
       "infoLink         184506\n",
       "categories        10883\n",
       "ratingsCount        478\n",
       "dtype: int64"
      ]
     },
     "execution_count": 5,
     "metadata": {},
     "output_type": "execute_result"
    }
   ],
   "source": [
    "df_data.nunique()"
   ]
  },
  {
   "cell_type": "code",
   "execution_count": 6,
   "metadata": {},
   "outputs": [
    {
     "data": {
      "text/plain": [
       "0         http://books.google.com/books/content?id=DykPA...\n",
       "1         http://books.google.com/books/content?id=IjvHQ...\n",
       "2         http://books.google.com/books/content?id=2tsDA...\n",
       "3         http://books.google.com/books/content?id=aRSIg...\n",
       "4                                                       NaN\n",
       "                                ...                        \n",
       "212399    http://books.google.com/books/content?id=J7M-N...\n",
       "212400    http://books.google.com/books/content?id=3n8k6...\n",
       "212401                                                  NaN\n",
       "212402    http://books.google.com/books/content?id=JM6YV...\n",
       "212403    http://books.google.com/books/content?id=dehfP...\n",
       "Name: image, Length: 212404, dtype: object"
      ]
     },
     "execution_count": 6,
     "metadata": {},
     "output_type": "execute_result"
    }
   ],
   "source": [
    "df_data.image"
   ]
  },
  {
   "cell_type": "code",
   "execution_count": 7,
   "metadata": {},
   "outputs": [
    {
     "data": {
      "text/plain": [
       "Title                 1\n",
       "description       68442\n",
       "authors           31413\n",
       "image             52075\n",
       "previewLink       23836\n",
       "publisher         75886\n",
       "publishedDate     25305\n",
       "infoLink          23836\n",
       "categories        41199\n",
       "ratingsCount     162652\n",
       "dtype: int64"
      ]
     },
     "execution_count": 7,
     "metadata": {},
     "output_type": "execute_result"
    }
   ],
   "source": [
    "df_data.isnull().sum()"
   ]
  },
  {
   "cell_type": "code",
   "execution_count": 8,
   "metadata": {},
   "outputs": [],
   "source": [
    "df_data.dropna(axis=0, inplace=True)"
   ]
  },
  {
   "cell_type": "code",
   "execution_count": 9,
   "metadata": {},
   "outputs": [
    {
     "data": {
      "text/plain": [
       "Title            0\n",
       "description      0\n",
       "authors          0\n",
       "image            0\n",
       "previewLink      0\n",
       "publisher        0\n",
       "publishedDate    0\n",
       "infoLink         0\n",
       "categories       0\n",
       "ratingsCount     0\n",
       "dtype: int64"
      ]
     },
     "execution_count": 9,
     "metadata": {},
     "output_type": "execute_result"
    }
   ],
   "source": [
    "df_data.isnull().sum()"
   ]
  },
  {
   "cell_type": "code",
   "execution_count": 10,
   "metadata": {},
   "outputs": [
    {
     "name": "stdout",
     "output_type": "stream",
     "text": [
      "<class 'pandas.core.frame.DataFrame'>\n",
      "Index: 40635 entries, 5 to 212402\n",
      "Data columns (total 10 columns):\n",
      " #   Column         Non-Null Count  Dtype  \n",
      "---  ------         --------------  -----  \n",
      " 0   Title          40635 non-null  object \n",
      " 1   description    40635 non-null  object \n",
      " 2   authors        40635 non-null  object \n",
      " 3   image          40635 non-null  object \n",
      " 4   previewLink    40635 non-null  object \n",
      " 5   publisher      40635 non-null  object \n",
      " 6   publishedDate  40635 non-null  object \n",
      " 7   infoLink       40635 non-null  object \n",
      " 8   categories     40635 non-null  object \n",
      " 9   ratingsCount   40635 non-null  float64\n",
      "dtypes: float64(1), object(9)\n",
      "memory usage: 3.4+ MB\n"
     ]
    }
   ],
   "source": [
    "df_data.info()"
   ]
  },
  {
   "cell_type": "code",
   "execution_count": 11,
   "metadata": {},
   "outputs": [],
   "source": [
    "df_rating.dropna(axis=0, inplace=True)"
   ]
  },
  {
   "cell_type": "code",
   "execution_count": 12,
   "metadata": {},
   "outputs": [
    {
     "name": "stdout",
     "output_type": "stream",
     "text": [
      "<class 'pandas.core.frame.DataFrame'>\n",
      "Index: 414518 entries, 10 to 2999988\n",
      "Data columns (total 10 columns):\n",
      " #   Column              Non-Null Count   Dtype  \n",
      "---  ------              --------------   -----  \n",
      " 0   Id                  414518 non-null  object \n",
      " 1   Title               414518 non-null  object \n",
      " 2   Price               414518 non-null  float64\n",
      " 3   User_id             414518 non-null  object \n",
      " 4   profileName         414518 non-null  object \n",
      " 5   review/helpfulness  414518 non-null  object \n",
      " 6   review/score        414518 non-null  float64\n",
      " 7   review/time         414518 non-null  int64  \n",
      " 8   review/summary      414518 non-null  object \n",
      " 9   review/text         414518 non-null  object \n",
      "dtypes: float64(2), int64(1), object(7)\n",
      "memory usage: 34.8+ MB\n"
     ]
    }
   ],
   "source": [
    "df_rating.info()"
   ]
  },
  {
   "cell_type": "code",
   "execution_count": 13,
   "metadata": {},
   "outputs": [
    {
     "data": {
      "text/plain": [
       "Id                     47981\n",
       "Title                  47364\n",
       "Price                   5926\n",
       "User_id               305427\n",
       "profileName           273129\n",
       "review/helpfulness      5819\n",
       "review/score               5\n",
       "review/time             5685\n",
       "review/summary        325608\n",
       "review/text           396233\n",
       "dtype: int64"
      ]
     },
     "execution_count": 13,
     "metadata": {},
     "output_type": "execute_result"
    }
   ],
   "source": [
    "df_rating.nunique()"
   ]
  },
  {
   "cell_type": "code",
   "execution_count": 14,
   "metadata": {},
   "outputs": [
    {
     "data": {
      "text/plain": [
       "Title            40635\n",
       "description      36616\n",
       "authors          26809\n",
       "image            36907\n",
       "previewLink      40449\n",
       "publisher         4660\n",
       "publishedDate     6891\n",
       "infoLink         38961\n",
       "categories        1105\n",
       "ratingsCount       454\n",
       "dtype: int64"
      ]
     },
     "execution_count": 14,
     "metadata": {},
     "output_type": "execute_result"
    }
   ],
   "source": [
    "df_data.nunique()"
   ]
  },
  {
   "cell_type": "code",
   "execution_count": 15,
   "metadata": {},
   "outputs": [],
   "source": [
    "df_data.to_csv('books_data_clean.csv')"
   ]
  },
  {
   "cell_type": "code",
   "execution_count": null,
   "metadata": {},
   "outputs": [],
   "source": [
    "df_rating.to_csv('books_rating_clean.csv')"
   ]
  },
  {
   "cell_type": "code",
   "execution_count": null,
   "metadata": {},
   "outputs": [],
   "source": []
  }
 ],
 "metadata": {
  "kernelspec": {
   "display_name": "tf_env",
   "language": "python",
   "name": "python3"
  },
  "language_info": {
   "codemirror_mode": {
    "name": "ipython",
    "version": 3
   },
   "file_extension": ".py",
   "mimetype": "text/x-python",
   "name": "python",
   "nbconvert_exporter": "python",
   "pygments_lexer": "ipython3",
   "version": "3.9.19"
  }
 },
 "nbformat": 4,
 "nbformat_minor": 2
}
