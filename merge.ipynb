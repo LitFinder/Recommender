{
 "cells": [
  {
   "cell_type": "code",
   "execution_count": 1,
   "metadata": {},
   "outputs": [],
   "source": [
    "import pandas as pd\n",
    "\n",
    "# Load the data\n",
    "books_data = pd.read_csv('books_data_clean.csv')\n",
    "books_rating = pd.read_csv('books_rating_clean.csv')\n",
    "books_data = books_data.drop(columns=[\"Unnamed: 0\"])\n",
    "books_rating = books_rating.drop(columns=[\"Unnamed: 0\"])\n",
    "\n",
    "# Ensure 'Title' in books_data and books_rating are unique\n",
    "books_data = books_data.drop_duplicates(subset=['Title'])\n",
    "\n",
    "# Create an 'id' column in books_data\n",
    "books_data['id'] = range(1, len(books_data) + 1)\n",
    "\n",
    "# Merge the DataFrames on 'Title'\n",
    "books_rating_with_id = pd.merge(books_rating, books_data[['Title', 'id']], on='Title', how='inner')\n",
    "# Rename 'id' to 'book_id' in the merged DataFrame\n",
    "books_rating_with_id.rename(columns={'id': 'book_id'}, inplace=True)\n",
    "# Drop unnecessary columns if needed, for example 'Title' from books_rating_with_id if no longer needed\n",
    "books_rating_with_id.drop(columns=['Title'], inplace=True)\n",
    "\n",
    "# Drop the 'Id' column and create a new 'id' for each row\n",
    "books_rating_with_id.drop(columns=['Id'], inplace=True)\n",
    "books_rating_with_id['id'] = range(1, len(books_rating_with_id) + 1)\n",
    "# Move 'id' and 'book_id' to the front\n",
    "books_rating_with_id = books_rating_with_id[['id', 'book_id'] + [col for col in books_rating_with_id.columns if col not in ['id', 'book_id']]]\n",
    "books_rating_with_id.to_csv('books_rating_clean_with_book_id.csv', index=False)\n",
    "\n",
    "# Merge the books_rating 'Id' to books_data based on 'Title'\n",
    "books_data_with_goodreads_id = pd.merge(books_data, books_rating[['Title', 'Id']], on='Title', how='left')\n",
    "# Ensure there are no duplicates after merge\n",
    "books_data_with_goodreads_id = books_data_with_goodreads_id.drop_duplicates(subset=['Title'])\n",
    "# Rename 'Id' to 'goodreads_book_id' and 'Title' to 'title'\n",
    "books_data_with_goodreads_id.rename(columns={'Id': 'goodreads_book_id', 'Title': 'title'}, inplace=True)\n",
    "# Move 'id' and 'goodreads_book_id' to the front\n",
    "books_data_with_goodreads_id = books_data_with_goodreads_id[['id', 'goodreads_book_id', 'title'] + [col for col in books_data_with_goodreads_id.columns if col not in ['id', 'goodreads_book_id', 'title']]]\n",
    "# Save the updated DataFrame to a CSV file\n",
    "books_data_with_goodreads_id.to_csv('books_data_clean_with_id.csv', index=False)\n"
   ]
  },
  {
   "cell_type": "code",
   "execution_count": 2,
   "metadata": {},
   "outputs": [],
   "source": [
    "# import pandas as pd\n",
    "\n",
    "# # Load the data\n",
    "# books_data = pd.read_csv('books_data_clean.csv')\n",
    "# books_rating = pd.read_csv('books_rating_clean.csv')\n",
    "\n",
    "# # Create an 'id' column in books_data\n",
    "# books_data['id'] = range(1, len(books_data) + 1)\n",
    "\n",
    "# # Merge the DataFrames on 'Title'\n",
    "# merged_data = pd.merge(books_rating, books_data[['Title', 'id']], on='Title', how='inner')\n",
    "\n",
    "# # Rename 'id' to 'book_id' in the merged DataFrame\n",
    "# merged_data.rename(columns={'id': 'book_id'}, inplace=True)\n",
    "\n",
    "# # Drop unnecessary columns if needed, for example 'Title' from merged_data if no longer needed\n",
    "# merged_data.drop(columns=['Title'], inplace=True)\n",
    "\n",
    "# # Save the updated DataFrames back to CSV files\n",
    "# books_data.to_csv('books_data_clean_with_id.csv', index=False)\n",
    "# merged_data.to_csv('books_rating_clean_with_book_id.csv', index=False)\n"
   ]
  },
  {
   "cell_type": "code",
   "execution_count": 3,
   "metadata": {},
   "outputs": [
    {
     "name": "stdout",
     "output_type": "stream",
     "text": [
      "<class 'pandas.core.frame.DataFrame'>\n",
      "RangeIndex: 40635 entries, 0 to 40634\n",
      "Data columns (total 12 columns):\n",
      " #   Column             Non-Null Count  Dtype  \n",
      "---  ------             --------------  -----  \n",
      " 0   id                 40635 non-null  int64  \n",
      " 1   goodreads_book_id  9909 non-null   object \n",
      " 2   title              40635 non-null  object \n",
      " 3   description        40635 non-null  object \n",
      " 4   authors            40635 non-null  object \n",
      " 5   image              40635 non-null  object \n",
      " 6   previewLink        40635 non-null  object \n",
      " 7   publisher          40635 non-null  object \n",
      " 8   publishedDate      40635 non-null  object \n",
      " 9   infoLink           40635 non-null  object \n",
      " 10  categories         40635 non-null  object \n",
      " 11  ratingsCount       40635 non-null  float64\n",
      "dtypes: float64(1), int64(1), object(10)\n",
      "memory usage: 3.7+ MB\n"
     ]
    }
   ],
   "source": [
    "books_data_new = pd.read_csv('books_data_clean_with_id.csv')\n",
    "books_data_new.info()"
   ]
  },
  {
   "cell_type": "code",
   "execution_count": 4,
   "metadata": {},
   "outputs": [
    {
     "name": "stdout",
     "output_type": "stream",
     "text": [
      "<class 'pandas.core.frame.DataFrame'>\n",
      "RangeIndex: 174295 entries, 0 to 174294\n",
      "Data columns (total 10 columns):\n",
      " #   Column              Non-Null Count   Dtype  \n",
      "---  ------              --------------   -----  \n",
      " 0   id                  174295 non-null  int64  \n",
      " 1   book_id             174295 non-null  int64  \n",
      " 2   Price               174295 non-null  float64\n",
      " 3   User_id             174295 non-null  object \n",
      " 4   profileName         174295 non-null  object \n",
      " 5   review/helpfulness  174295 non-null  object \n",
      " 6   review/score        174295 non-null  float64\n",
      " 7   review/time         174295 non-null  int64  \n",
      " 8   review/summary      174295 non-null  object \n",
      " 9   review/text         174295 non-null  object \n",
      "dtypes: float64(2), int64(3), object(5)\n",
      "memory usage: 13.3+ MB\n"
     ]
    },
    {
     "data": {
      "text/plain": [
       "id                    174295\n",
       "book_id                 9909\n",
       "Price                   2462\n",
       "User_id               138933\n",
       "profileName           127031\n",
       "review/helpfulness      4343\n",
       "review/score               5\n",
       "review/time             5638\n",
       "review/summary        141992\n",
       "review/text           169580\n",
       "dtype: int64"
      ]
     },
     "execution_count": 4,
     "metadata": {},
     "output_type": "execute_result"
    }
   ],
   "source": [
    "books_rating_new = pd.read_csv('books_rating_clean_with_book_id.csv')\n",
    "books_rating_new.info()\n",
    "books_rating_new.nunique()\n"
   ]
  },
  {
   "cell_type": "code",
   "execution_count": 5,
   "metadata": {},
   "outputs": [
    {
     "name": "stdout",
     "output_type": "stream",
     "text": [
      "Duplicate Rows :\n"
     ]
    }
   ],
   "source": [
    "duplicate = books_rating_new[books_rating_new.duplicated()]\n",
    " \n",
    "print(\"Duplicate Rows :\")"
   ]
  }
 ],
 "metadata": {
  "kernelspec": {
   "display_name": "tf",
   "language": "python",
   "name": "python3"
  },
  "language_info": {
   "codemirror_mode": {
    "name": "ipython",
    "version": 3
   },
   "file_extension": ".py",
   "mimetype": "text/x-python",
   "name": "python",
   "nbconvert_exporter": "python",
   "pygments_lexer": "ipython3",
   "version": "3.9.19"
  }
 },
 "nbformat": 4,
 "nbformat_minor": 2
}
