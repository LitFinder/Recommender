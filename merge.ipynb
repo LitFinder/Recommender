{
 "cells": [
  {
   "cell_type": "code",
   "execution_count": 14,
   "metadata": {},
   "outputs": [],
   "source": [
    "import pandas as pd\n",
    "\n",
    "# Load the data\n",
    "books_data = pd.read_csv('books_data_clean.csv')\n",
    "books_rating = pd.read_csv('books_rating_clean.csv')\n",
    "\n",
    "# Create an 'id' column in books_data\n",
    "books_data['id'] = range(1, len(books_data) + 1)\n",
    "\n",
    "# Merge the DataFrames on 'Title'\n",
    "merged_data = pd.merge(books_rating, books_data[['Title', 'id']], on='Title', how='inner')\n",
    "\n",
    "# Rename 'id' to 'book_id' in the merged DataFrame\n",
    "merged_data.rename(columns={'id': 'book_id'}, inplace=True)\n",
    "\n",
    "# Drop unnecessary columns if needed, for example 'Title' from merged_data if no longer needed\n",
    "merged_data.drop(columns=['Title'], inplace=True)\n",
    "\n",
    "# Save the updated DataFrames back to CSV files\n",
    "books_data.to_csv('books_data_clean_with_id.csv', index=False)\n",
    "merged_data.to_csv('books_rating_clean_with_book_id.csv', index=False)\n"
   ]
  },
  {
   "cell_type": "code",
   "execution_count": 15,
   "metadata": {},
   "outputs": [
    {
     "name": "stdout",
     "output_type": "stream",
     "text": [
      "<class 'pandas.core.frame.DataFrame'>\n",
      "RangeIndex: 40635 entries, 0 to 40634\n",
      "Data columns (total 12 columns):\n",
      " #   Column         Non-Null Count  Dtype  \n",
      "---  ------         --------------  -----  \n",
      " 0   Unnamed: 0     40635 non-null  int64  \n",
      " 1   Title          40635 non-null  object \n",
      " 2   description    40635 non-null  object \n",
      " 3   authors        40635 non-null  object \n",
      " 4   image          40635 non-null  object \n",
      " 5   previewLink    40635 non-null  object \n",
      " 6   publisher      40635 non-null  object \n",
      " 7   publishedDate  40635 non-null  object \n",
      " 8   infoLink       40635 non-null  object \n",
      " 9   categories     40635 non-null  object \n",
      " 10  ratingsCount   40635 non-null  float64\n",
      " 11  id             40635 non-null  int64  \n",
      "dtypes: float64(1), int64(2), object(9)\n",
      "memory usage: 3.7+ MB\n"
     ]
    }
   ],
   "source": [
    "books_data_new = pd.read_csv('books_data_clean_with_id.csv')\n",
    "books_data_new.info()"
   ]
  },
  {
   "cell_type": "code",
   "execution_count": 16,
   "metadata": {},
   "outputs": [
    {
     "name": "stdout",
     "output_type": "stream",
     "text": [
      "<class 'pandas.core.frame.DataFrame'>\n",
      "RangeIndex: 174295 entries, 0 to 174294\n",
      "Data columns (total 11 columns):\n",
      " #   Column              Non-Null Count   Dtype  \n",
      "---  ------              --------------   -----  \n",
      " 0   Unnamed: 0          174295 non-null  int64  \n",
      " 1   Id                  174295 non-null  object \n",
      " 2   Price               174295 non-null  float64\n",
      " 3   User_id             174295 non-null  object \n",
      " 4   profileName         174295 non-null  object \n",
      " 5   review/helpfulness  174295 non-null  object \n",
      " 6   review/score        174295 non-null  float64\n",
      " 7   review/time         174295 non-null  int64  \n",
      " 8   review/summary      174295 non-null  object \n",
      " 9   review/text         174295 non-null  object \n",
      " 10  book_id             174295 non-null  int64  \n",
      "dtypes: float64(2), int64(3), object(6)\n",
      "memory usage: 14.6+ MB\n"
     ]
    }
   ],
   "source": [
    "books_rating_new = pd.read_csv('books_rating_clean_with_book_id.csv')\n",
    "books_rating_new.info()"
   ]
  },
  {
   "cell_type": "code",
   "execution_count": null,
   "metadata": {},
   "outputs": [],
   "source": []
  }
 ],
 "metadata": {
  "kernelspec": {
   "display_name": "tf",
   "language": "python",
   "name": "python3"
  },
  "language_info": {
   "codemirror_mode": {
    "name": "ipython",
    "version": 3
   },
   "file_extension": ".py",
   "mimetype": "text/x-python",
   "name": "python",
   "nbconvert_exporter": "python",
   "pygments_lexer": "ipython3",
   "version": "3.9.undefined"
  }
 },
 "nbformat": 4,
 "nbformat_minor": 2
}
